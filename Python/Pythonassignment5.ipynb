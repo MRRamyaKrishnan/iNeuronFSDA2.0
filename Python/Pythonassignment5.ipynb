{
 "cells": [
  {
   "cell_type": "markdown",
   "id": "c8571aff-1725-4522-9dcf-8a81ef034d4f",
   "metadata": {},
   "source": [
    "1. What does an empty dictionary&#39;s code look like?"
   ]
  },
  {
   "cell_type": "code",
   "execution_count": 1,
   "id": "71133b19-cd59-4c8a-ad05-13453c7324aa",
   "metadata": {},
   "outputs": [
    {
     "data": {
      "text/plain": [
       "dict"
      ]
     },
     "execution_count": 1,
     "metadata": {},
     "output_type": "execute_result"
    }
   ],
   "source": [
    "dict = {}\n",
    "type(dict)\n",
    "     "
   ]
  },
  {
   "cell_type": "markdown",
   "id": "9b705081-f082-47dc-bb50-113a6700b0a5",
   "metadata": {},
   "source": [
    "2.What is the value of a dictionary value with the key 'foo' and the value 42?"
   ]
  },
  {
   "cell_type": "code",
   "execution_count": 2,
   "id": "583d1058-1415-4523-a2d7-f997049f2144",
   "metadata": {},
   "outputs": [
    {
     "data": {
      "text/plain": [
       "{'foo': 42}"
      ]
     },
     "execution_count": 2,
     "metadata": {},
     "output_type": "execute_result"
    }
   ],
   "source": [
    "{'foo':42}"
   ]
  },
  {
   "cell_type": "markdown",
   "id": "d98e4e6e-5b83-41d5-8091-1a544748dcfa",
   "metadata": {},
   "source": [
    "3.What is the most significant distinction between a dictionary and a list?"
   ]
  },
  {
   "cell_type": "markdown",
   "id": "48477db6-8545-4591-982c-fbeb557694fd",
   "metadata": {},
   "source": [
    "List - items in list are Ordered\n",
    "Dictionary : item in dictionary are unordered"
   ]
  },
  {
   "cell_type": "code",
   "execution_count": 3,
   "id": "2d13551c-d1ed-47bd-95b8-10e9f249add8",
   "metadata": {},
   "outputs": [
    {
     "ename": "SyntaxError",
     "evalue": "invalid decimal literal (4179673055.py, line 1)",
     "output_type": "error",
     "traceback": [
      "\u001b[1;36m  Cell \u001b[1;32mIn[3], line 1\u001b[1;36m\u001b[0m\n\u001b[1;33m    4.What happens if you try to access spam['foo'] if spam is {'bar': 100}?\u001b[0m\n\u001b[1;37m     ^\u001b[0m\n\u001b[1;31mSyntaxError\u001b[0m\u001b[1;31m:\u001b[0m invalid decimal literal\n"
     ]
    }
   ],
   "source": [
    "4.What happens if you try to access spam['foo'] if spam is {'bar': 100}?"
   ]
  },
  {
   "cell_type": "code",
   "execution_count": 4,
   "id": "64ac5264-8549-40d4-9f6b-cf2cb082d96a",
   "metadata": {},
   "outputs": [],
   "source": [
    "#key error"
   ]
  },
  {
   "cell_type": "markdown",
   "id": "9f682297-5a4e-41d0-8483-6b6fa9396000",
   "metadata": {},
   "source": [
    "5.If a dictionary is stored in spam, what is the difference between the expressions 'cat' in spam and 'cat' in spam.keys()?"
   ]
  },
  {
   "cell_type": "code",
   "execution_count": 5,
   "id": "ad633be3-a2c9-4890-b225-3699a02b1ac7",
   "metadata": {},
   "outputs": [
    {
     "data": {
      "text/plain": [
       "True"
      ]
     },
     "execution_count": 5,
     "metadata": {},
     "output_type": "execute_result"
    }
   ],
   "source": [
    "spam ={'cat':100}\n",
    "'cat' in spam\n",
    "     "
   ]
  },
  {
   "cell_type": "code",
   "execution_count": 6,
   "id": "8355eaf7-ea0d-43b4-9a7d-42b54b32e74f",
   "metadata": {},
   "outputs": [
    {
     "data": {
      "text/plain": [
       "True"
      ]
     },
     "execution_count": 6,
     "metadata": {},
     "output_type": "execute_result"
    }
   ],
   "source": [
    "'cat' in spam.keys()\n",
    "#There is no differnce, both check if 'cat' is key of the dictionary and if its a key, returns True."
   ]
  },
  {
   "cell_type": "markdown",
   "id": "4f577c18-f4be-40a0-882e-7bb1d7686d9b",
   "metadata": {},
   "source": [
    "6.If a dictionary is stored in spam, what is the difference between the expressions 'cat' in spam and 'cat' in spam.values()?"
   ]
  },
  {
   "cell_type": "code",
   "execution_count": 7,
   "id": "e7633282-cf8e-4816-8d0f-8c3fad35b295",
   "metadata": {},
   "outputs": [
    {
     "data": {
      "text/plain": [
       "True"
      ]
     },
     "execution_count": 7,
     "metadata": {},
     "output_type": "execute_result"
    }
   ],
   "source": [
    "spam ={'cat':100}\n",
    "'cat' in spam"
   ]
  },
  {
   "cell_type": "code",
   "execution_count": 8,
   "id": "89b4582f-4946-4d72-9bf6-fbae91298a5c",
   "metadata": {},
   "outputs": [
    {
     "data": {
      "text/plain": [
       "False"
      ]
     },
     "execution_count": 8,
     "metadata": {},
     "output_type": "execute_result"
    }
   ],
   "source": [
    "spam ={'cat':100}\n",
    "'cat' in spam.values()"
   ]
  },
  {
   "cell_type": "code",
   "execution_count": 9,
   "id": "7a36f48b-181b-4329-bbc6-498d810694b1",
   "metadata": {},
   "outputs": [],
   "source": [
    "#'cat' in spam checks whether there is a 'cat' key in the dictionary\n",
    "#'cat' in spam.values() checks whether there is a value 'cat' for one of the keys in spam.\n",
    "     "
   ]
  },
  {
   "cell_type": "markdown",
   "id": "9fe5e4f3-75fb-4fcd-9716-e85c1ca399a9",
   "metadata": {},
   "source": [
    "7.What is a shortcut for the following code?\n"
   ]
  },
  {
   "cell_type": "code",
   "execution_count": 11,
   "id": "cf23ebbe-5298-4d2d-aa8f-e785a169b45e",
   "metadata": {},
   "outputs": [],
   "source": [
    "#if 'color' not in spam:\n",
    "#spam['color'] = 'black'"
   ]
  },
  {
   "cell_type": "code",
   "execution_count": 12,
   "id": "3f96ed96-6cab-482f-9e79-6d41f55eb108",
   "metadata": {},
   "outputs": [
    {
     "data": {
      "text/plain": [
       "{'cat': 100, 'color': 'black'}"
      ]
     },
     "execution_count": 12,
     "metadata": {},
     "output_type": "execute_result"
    }
   ],
   "source": [
    "spam ={'cat':100}\n",
    "spam.setdefault('color','black')\n",
    "spam"
   ]
  },
  {
   "cell_type": "markdown",
   "id": "bb266b2c-36db-4488-99e0-994293010a43",
   "metadata": {},
   "source": [
    "8.How do you 'pretty print' dictionary values using which module and function?"
   ]
  },
  {
   "cell_type": "code",
   "execution_count": 13,
   "id": "e6878036-dd23-4ea4-be69-1528da71f613",
   "metadata": {},
   "outputs": [
    {
     "name": "stdout",
     "output_type": "stream",
     "text": [
      "{'address': {'city': 'Bangalore', 'state': 'Karnataka', 'street': 'East End'},\n",
      " 'age': 27,\n",
      " 'name': 'Ramya'}\n"
     ]
    }
   ],
   "source": [
    "import pprint\n",
    "\n",
    "data = {'name': 'Ramya', 'age': 27, 'address': {'street': 'East End', 'city': 'Bangalore', 'state': 'Karnataka'}}\n",
    "\n",
    "pprint.pprint(data)"
   ]
  },
  {
   "cell_type": "code",
   "execution_count": 14,
   "id": "4abc1000-a841-46cb-8bfb-0bf234c9c8ec",
   "metadata": {},
   "outputs": [
    {
     "name": "stdout",
     "output_type": "stream",
     "text": [
      "{'name': 'Ramya', 'age': 27, 'address': {'street': 'East End', 'city': 'Bangalore', 'state': 'Karnataka'}}\n"
     ]
    }
   ],
   "source": [
    "print(data)"
   ]
  },
  {
   "cell_type": "code",
   "execution_count": null,
   "id": "08088e53-922e-47cc-828c-ea988eeb96a7",
   "metadata": {},
   "outputs": [],
   "source": []
  }
 ],
 "metadata": {
  "kernelspec": {
   "display_name": "Python 3 (ipykernel)",
   "language": "python",
   "name": "python3"
  },
  "language_info": {
   "codemirror_mode": {
    "name": "ipython",
    "version": 3
   },
   "file_extension": ".py",
   "mimetype": "text/x-python",
   "name": "python",
   "nbconvert_exporter": "python",
   "pygments_lexer": "ipython3",
   "version": "3.10.9"
  }
 },
 "nbformat": 4,
 "nbformat_minor": 5
}
